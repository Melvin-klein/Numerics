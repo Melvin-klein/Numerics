{
 "cells": [
  {
   "cell_type": "markdown",
   "metadata": {},
   "source": [
    "# Numerics"
   ]
  },
  {
   "cell_type": "code",
   "execution_count": null,
   "metadata": {},
   "outputs": [],
   "source": [
    "!pip install numpy scikit-learn matplotlib agosto"
   ]
  },
  {
   "cell_type": "code",
   "execution_count": null,
   "metadata": {},
   "outputs": [],
   "source": [
    "import numpy as np\n",
    "import matplotlib.pyplot as plt\n",
    "from sklearn.datasets import make_classification\n",
    "from algosto.solvers import SGDSolver\n",
    "from algosto.utils.functions import binary_log_likelihood\n",
    "from algosto.utils import plot"
   ]
  },
  {
   "cell_type": "markdown",
   "metadata": {},
   "source": [
    "## Data generation"
   ]
  },
  {
   "cell_type": "code",
   "execution_count": null,
   "metadata": {},
   "outputs": [],
   "source": [
    "X, y = make_classification(\n",
    "    n_samples=500,\n",
    "    n_features=2,\n",
    "    n_redundant=0,\n",
    "    n_informative=2,\n",
    "    n_clusters_per_class=1,\n",
    "    random_state=651\n",
    ")\n",
    "\n",
    "class_0 = X[y == 0]\n",
    "class_1 = X[y == 1]\n",
    "\n",
    "plt.scatter(class_0[:, 0], class_0[:, 1], color='blue', label='Classe 0', alpha=0.7)\n",
    "plt.scatter(class_1[:, 0], class_1[:, 1], color='red', label='Classe 1', alpha=0.7)\n",
    "\n",
    "plt.xlim((-3.5, 3.5))\n",
    "plt.ylim((-2.5, 2.5))\n",
    "\n",
    "plt.xlabel('Feature 1')\n",
    "plt.ylabel('Feature 2')\n",
    "plt.title('Visualisation des classes')\n",
    "plt.legend()"
   ]
  },
  {
   "cell_type": "markdown",
   "metadata": {},
   "source": [
    "## Logistic regression"
   ]
  },
  {
   "cell_type": "code",
   "execution_count": null,
   "metadata": {},
   "outputs": [],
   "source": [
    "def logistic(X: np.array, weights: np.array):\n",
    "    def sigmoid(S):\n",
    "        return 1 / (1 + np.exp(-S))\n",
    "    return sigmoid(X @ weights.T)"
   ]
  },
  {
   "cell_type": "markdown",
   "metadata": {},
   "source": [
    "## Gradient Descent"
   ]
  },
  {
   "cell_type": "code",
   "execution_count": null,
   "metadata": {},
   "outputs": [],
   "source": [
    "batch_size = 500\n",
    "n_batch = int(np.ceil(X.shape[0]/batch_size))\n",
    "BLL_f, BLL_grad = binary_log_likelihood(X, y, batch_size, logistic)\n",
    "\n",
    "solver = SGDSolver(d=2, N=n_batch, objective=BLL_f, grad=BLL_grad, gamma=0.1, random_state=42)\n",
    "\n",
    "solver.fit(x_start=np.array([0, 0]))\n",
    "\n",
    "plot(solver)"
   ]
  },
  {
   "cell_type": "code",
   "execution_count": null,
   "metadata": {},
   "outputs": [],
   "source": [
    "plt.figure()\n",
    "\n",
    "class_0 = X[y == 0]\n",
    "class_1 = X[y == 1]\n",
    "\n",
    "\n",
    "plt.scatter(class_0[:, 0], class_0[:, 1], color='blue', label='Classe 0', alpha=0.7)\n",
    "plt.scatter(class_1[:, 0], class_1[:, 1], color='red', label='Classe 1', alpha=0.7)\n",
    "\n",
    "w1, w2 = solver.get_trajectory()[-1]\n",
    "x_values = np.linspace(-3.5, 3.5, 100)  # Points sur l'axe x\n",
    "decision_boundary = -(w1 / w2) * x_values  # Calcul de y\n",
    "plt.plot(x_values, decision_boundary, color='black', linestyle='--', label='Frontière de décision')\n",
    "\n",
    "# Tracer les zones de prédiction\n",
    "plt.fill_between(\n",
    "    x_values, decision_boundary, 2.5, color='blue', alpha=0.2, label='Classe 0 (zone)'\n",
    ")\n",
    "plt.fill_between(\n",
    "    x_values, decision_boundary, -2.5, color='red', alpha=0.2, label='Classe 1 (zone)'\n",
    ")\n",
    "\n",
    "plt.xlim((-3.5, 3.5))\n",
    "plt.ylim((-2.5, 2.5))\n",
    "\n",
    "plt.xlabel('Feature 1')\n",
    "plt.ylabel('Feature 2')\n",
    "plt.title('Visualisation des classes')\n",
    "plt.legend()\n",
    "\n",
    "plt.show()"
   ]
  },
  {
   "cell_type": "markdown",
   "metadata": {},
   "source": [
    "## Stochastic Gradient Descent"
   ]
  },
  {
   "cell_type": "code",
   "execution_count": null,
   "metadata": {},
   "outputs": [],
   "source": [
    "batch_size = 10\n",
    "n_batch = int(np.ceil(X.shape[0]/batch_size))\n",
    "BLL_f, BLL_grad = binary_log_likelihood(X, y, batch_size, logistic)\n",
    "\n",
    "solver = SGDSolver(d=2, N=n_batch, objective=BLL_f, grad=BLL_grad, gamma=0.1, random_state=42)\n",
    "\n",
    "solver.fit(x_start=np.array([0, 0]))\n",
    "\n",
    "plot(solver)"
   ]
  },
  {
   "cell_type": "code",
   "execution_count": null,
   "metadata": {},
   "outputs": [],
   "source": [
    "plt.figure()\n",
    "\n",
    "class_0 = X[y == 0]\n",
    "class_1 = X[y == 1]\n",
    "\n",
    "\n",
    "plt.scatter(class_0[:, 0], class_0[:, 1], color='blue', label='Classe 0', alpha=0.7)\n",
    "plt.scatter(class_1[:, 0], class_1[:, 1], color='red', label='Classe 1', alpha=0.7)\n",
    "\n",
    "w1, w2 = solver.get_trajectory()[-1]\n",
    "x_values = np.linspace(-3.5, 3.5, 100)  # Points sur l'axe x\n",
    "decision_boundary = -(w1 / w2) * x_values  # Calcul de y\n",
    "plt.plot(x_values, decision_boundary, color='black', linestyle='--', label='Frontière de décision')\n",
    "\n",
    "# Tracer les zones de prédiction\n",
    "plt.fill_between(\n",
    "    x_values, decision_boundary, 2.5, color='blue', alpha=0.2, label='Classe 0 (zone)'\n",
    ")\n",
    "plt.fill_between(\n",
    "    x_values, decision_boundary, -2.5, color='red', alpha=0.2, label='Classe 1 (zone)'\n",
    ")\n",
    "\n",
    "plt.xlim((-3.5, 3.5))\n",
    "plt.ylim((-2.5, 2.5))\n",
    "\n",
    "plt.xlabel('Feature 1')\n",
    "plt.ylabel('Feature 2')\n",
    "plt.title('Visualisation des classes')\n",
    "plt.legend()\n",
    "\n",
    "plt.show()"
   ]
  }
 ],
 "metadata": {
  "kernelspec": {
   "display_name": "benchopt",
   "language": "python",
   "name": "python3"
  },
  "language_info": {
   "codemirror_mode": {
    "name": "ipython",
    "version": 3
   },
   "file_extension": ".py",
   "mimetype": "text/x-python",
   "name": "python",
   "nbconvert_exporter": "python",
   "pygments_lexer": "ipython3",
   "version": "3.10.13"
  }
 },
 "nbformat": 4,
 "nbformat_minor": 2
}
